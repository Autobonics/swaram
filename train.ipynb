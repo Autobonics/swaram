{
 "cells": [
  {
   "cell_type": "code",
   "execution_count": 36,
   "metadata": {},
   "outputs": [],
   "source": [
    "import torch.optim as optim\n",
    "import gloss_proc\n",
    "from torch import nn\n",
    "from gloss_model import GlossModel\n",
    "from torch.utils.tensorboard import SummaryWriter"
   ]
  },
  {
   "cell_type": "code",
   "execution_count": 47,
   "metadata": {},
   "outputs": [
    {
     "data": {
      "text/plain": [
       "(1596, 4)"
      ]
     },
     "execution_count": 47,
     "metadata": {},
     "output_type": "execute_result"
    }
   ],
   "source": [
    "# get data for training\n",
    "gp = gloss_proc.GlossProcess.load_checkpoint()\n",
    "gdata,label = gp.get_all_gdata()\n",
    "input_size = gdata[0][0].shape[0]\n",
    "class_no = len(gp.glosses)\n",
    "(input_size,class_no)"
   ]
  },
  {
   "cell_type": "code",
   "execution_count": 38,
   "metadata": {},
   "outputs": [
    {
     "data": {
      "text/plain": [
       "GlossModel(\n",
       "  (softmax): Softmax(dim=None)\n",
       "  (relu): ReLU()\n",
       "  (lstm1): LSTM(1596, 128, batch_first=True)\n",
       "  (lstm2): LSTM(128, 64, batch_first=True)\n",
       "  (fc1): Linear(in_features=64, out_features=32, bias=True)\n",
       "  (fc2): Linear(in_features=32, out_features=4, bias=True)\n",
       ")"
      ]
     },
     "execution_count": 38,
     "metadata": {},
     "output_type": "execute_result"
    }
   ],
   "source": [
    "# provide input and class size\n",
    "model = GlossModel(input_size,class_no)\n",
    "optim = optim.Adam(model.parameters(), lr=0.1)\n",
    "loss_fn= nn.CrossEntropyLoss()\n",
    "model"
   ]
  },
  {
   "cell_type": "code",
   "execution_count": null,
   "metadata": {},
   "outputs": [],
   "source": [
    "# split x , y for training and set epoch\n"
   ]
  },
  {
   "cell_type": "code",
   "execution_count": null,
   "metadata": {},
   "outputs": [],
   "source": [
    "# initialize sumamry writer\n",
    "writer=SummaryWriter()"
   ]
  },
  {
   "cell_type": "code",
   "execution_count": null,
   "metadata": {},
   "outputs": [],
   "source": [
    "# Start model training\n",
    "model.train()\n",
    "\n",
    "for i in range(epoch):\n",
    "    optim.zero_grad()\n",
    "    out = model(x_train)\n",
    "    loss = loss_fn(out, y_train.argmax())\n",
    "    loss.backward()\n",
    "    optim.step()\n",
    "    writer.add_scalar(\"Loss/epoch\", loss.item(), i)\n",
    "\n",
    "writer.close()\n"
   ]
  },
  {
   "cell_type": "code",
   "execution_count": null,
   "metadata": {},
   "outputs": [],
   "source": [
    "# save the model\n",
    "torch.save(model, \"swaram_lstm.pt\")\n"
   ]
  }
 ],
 "metadata": {
  "kernelspec": {
   "display_name": "swaram-venv",
   "language": "python",
   "name": "python3"
  },
  "language_info": {
   "codemirror_mode": {
    "name": "ipython",
    "version": 3
   },
   "file_extension": ".py",
   "mimetype": "text/x-python",
   "name": "python",
   "nbconvert_exporter": "python",
   "pygments_lexer": "ipython3",
   "version": "3.10.7"
  },
  "orig_nbformat": 4
 },
 "nbformat": 4,
 "nbformat_minor": 2
}
